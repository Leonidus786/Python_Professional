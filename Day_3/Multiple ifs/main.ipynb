{
 "cells": [
  {
   "cell_type": "code",
   "execution_count": 7,
   "id": "5148201f-8961-45f6-93f6-f973c44230b0",
   "metadata": {},
   "outputs": [],
   "source": [
    "# you are hired by a Theme Park as a developer and your first job is to remove\n",
    "# the ticket counter they have in place. To remove the ticket counter you need to check certain conditions\n",
    "# let's say for rollercoaster ride height should be >= 120 cm.\n",
    "# Now the boss came and say wait wait wait we have some price tiers also. And it depends on age if age is <= 12 then they have to pay\n",
    "# $ 5 and if age <=18 then u can pay $ 7 and if u are above 18 u should pay $ 12."
   ]
  },
  {
   "cell_type": "code",
   "execution_count": 6,
   "id": "60c5bb04-3515-496f-84ea-4359a870eabc",
   "metadata": {},
   "outputs": [
    {
     "name": "stdout",
     "output_type": "stream",
     "text": [
      "Welcome to the rollercoaster!\n"
     ]
    },
    {
     "name": "stdin",
     "output_type": "stream",
     "text": [
      "What is your height in cm?  124\n"
     ]
    },
    {
     "name": "stdout",
     "output_type": "stream",
     "text": [
      "You can ride the rollercoaster\n"
     ]
    },
    {
     "name": "stdin",
     "output_type": "stream",
     "text": [
      "What is your age?  19\n"
     ]
    },
    {
     "name": "stdout",
     "output_type": "stream",
     "text": [
      "You have to pay $12.\n"
     ]
    }
   ],
   "source": [
    "print(\"Welcome to the rollercoaster!\")\n",
    "height = int(input(\"What is your height in cm? \"))\n",
    "\n",
    "if height >= 120:\n",
    "    print(\"You can ride the rollercoaster\")\n",
    "    age = int(input(\"What is your age? \"))\n",
    "    if age <= 12:\n",
    "        print(\"You have to pay $5.\")\n",
    "    elif age <= 18:\n",
    "        print(\"You have to pay $7.\")\n",
    "    else:\n",
    "        print(\"You have to pay $12.\")   \n",
    "else:\n",
    "    print(\"Sorry you have to grow taller before you can ride.\")"
   ]
  },
  {
   "cell_type": "code",
   "execution_count": 8,
   "id": "aba0f1f6-a7b9-4220-bef6-888a5d05e6b9",
   "metadata": {},
   "outputs": [],
   "source": [
    "a = \"Abhishek\""
   ]
  },
  {
   "cell_type": "code",
   "execution_count": 9,
   "id": "ace179d8-43ee-4404-8119-f721c18b5e33",
   "metadata": {},
   "outputs": [
    {
     "name": "stdout",
     "output_type": "stream",
     "text": [
      "Abhishek\n"
     ]
    }
   ],
   "source": [
    "print(a)"
   ]
  },
  {
   "cell_type": "code",
   "execution_count": 10,
   "id": "57afd560-7db0-4798-9baf-bfd808b28b52",
   "metadata": {},
   "outputs": [
    {
     "name": "stdout",
     "output_type": "stream",
     "text": [
      "8\n"
     ]
    }
   ],
   "source": [
    "print(len(a))"
   ]
  },
  {
   "cell_type": "code",
   "execution_count": 11,
   "id": "17a2b9eb-4a68-4b30-8709-64aaa6d6507a",
   "metadata": {},
   "outputs": [
    {
     "data": {
      "text/plain": [
       "'A'"
      ]
     },
     "execution_count": 11,
     "metadata": {},
     "output_type": "execute_result"
    }
   ],
   "source": [
    "# indexing\n",
    "a[0]"
   ]
  },
  {
   "cell_type": "code",
   "execution_count": 12,
   "id": "547b0128-76fc-4aec-b0d0-fc2b4b97d00d",
   "metadata": {},
   "outputs": [
    {
     "data": {
      "text/plain": [
       "'k'"
      ]
     },
     "execution_count": 12,
     "metadata": {},
     "output_type": "execute_result"
    }
   ],
   "source": [
    "a[7]"
   ]
  },
  {
   "cell_type": "code",
   "execution_count": 13,
   "id": "a067eeb5-6c1d-4c33-b413-e726d79f1c8d",
   "metadata": {},
   "outputs": [
    {
     "data": {
      "text/plain": [
       "'Abhi'"
      ]
     },
     "execution_count": 13,
     "metadata": {},
     "output_type": "execute_result"
    }
   ],
   "source": [
    "# slicing\n",
    "# [Start : End]\n",
    "a[0:4]"
   ]
  },
  {
   "cell_type": "code",
   "execution_count": 15,
   "id": "249f7fc6-5d9e-4074-a073-4582b9dd8d59",
   "metadata": {},
   "outputs": [
    {
     "data": {
      "text/plain": [
       "'k'"
      ]
     },
     "execution_count": 15,
     "metadata": {},
     "output_type": "execute_result"
    }
   ],
   "source": [
    "a[-1]"
   ]
  },
  {
   "cell_type": "code",
   "execution_count": null,
   "id": "7bf6f87b-681a-431b-94df-9cb820307cdd",
   "metadata": {},
   "outputs": [],
   "source": []
  }
 ],
 "metadata": {
  "kernelspec": {
   "display_name": "Python 3 (ipykernel)",
   "language": "python",
   "name": "python3"
  },
  "language_info": {
   "codemirror_mode": {
    "name": "ipython",
    "version": 3
   },
   "file_extension": ".py",
   "mimetype": "text/x-python",
   "name": "python",
   "nbconvert_exporter": "python",
   "pygments_lexer": "ipython3",
   "version": "3.11.7"
  }
 },
 "nbformat": 4,
 "nbformat_minor": 5
}
